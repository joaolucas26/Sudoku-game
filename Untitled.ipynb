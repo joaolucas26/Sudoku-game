{
 "cells": [
  {
   "cell_type": "code",
   "execution_count": 1,
   "id": "5280ad7d",
   "metadata": {},
   "outputs": [],
   "source": [
    "import pandas as pd"
   ]
  },
  {
   "cell_type": "code",
   "execution_count": 2,
   "id": "c53c1b46",
   "metadata": {},
   "outputs": [
    {
     "data": {
      "text/plain": [
       "45"
      ]
     },
     "execution_count": 2,
     "metadata": {},
     "output_type": "execute_result"
    }
   ],
   "source": [
    "1+2+3+4+5+6+7+8+9"
   ]
  },
  {
   "cell_type": "code",
   "execution_count": 3,
   "id": "ca4e9c09",
   "metadata": {},
   "outputs": [
    {
     "name": "stdout",
     "output_type": "stream",
     "text": [
      "1  \n",
      "1  \n",
      "1  \n",
      "1  \n",
      "1  \n",
      "1  \n",
      "1  \n",
      "1  \n",
      "2  \n",
      "2  \n",
      "2  \n",
      "2  \n",
      "2  \n",
      "2  \n",
      "2  \n",
      "2  \n",
      "3  \n",
      "3  \n",
      "3  \n",
      "3  \n",
      "3  \n",
      "3  \n",
      "3  \n",
      "3  \n",
      "4  \n",
      "4  \n",
      "4  \n",
      "4  \n",
      "4  \n",
      "4  \n",
      "4  \n",
      "4  \n",
      "5  \n",
      "5  \n",
      "5  \n",
      "5  \n",
      "5  \n",
      "5  \n",
      "5  \n",
      "5  \n",
      "6  \n",
      "6  \n",
      "6  \n",
      "6  \n",
      "6  \n",
      "6  \n",
      "6  \n",
      "6  \n",
      "7  \n",
      "7  \n",
      "7  \n",
      "7  \n",
      "7  \n",
      "7  \n",
      "7  \n",
      "7  \n",
      "8  \n",
      "8  \n",
      "8  \n",
      "8  \n",
      "8  \n",
      "8  \n",
      "8  \n",
      "8  \n"
     ]
    }
   ],
   "source": [
    "for i in range (1,9):\n",
    "    for j in range (1, 9):\n",
    "        print(i, \" \")\n",
    "        "
   ]
  }
 ],
 "metadata": {
  "kernelspec": {
   "display_name": "base",
   "language": "python",
   "name": "python3"
  },
  "language_info": {
   "codemirror_mode": {
    "name": "ipython",
    "version": 3
   },
   "file_extension": ".py",
   "mimetype": "text/x-python",
   "name": "python",
   "nbconvert_exporter": "python",
   "pygments_lexer": "ipython3",
   "version": "3.9.12"
  },
  "vscode": {
   "interpreter": {
    "hash": "43c3745614ff3140446acc08a6a5ea45c6466061bc50d3463b223d760e32dd58"
   }
  }
 },
 "nbformat": 4,
 "nbformat_minor": 5
}
